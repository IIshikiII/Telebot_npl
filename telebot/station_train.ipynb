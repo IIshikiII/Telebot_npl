{
 "cells": [
  {
   "cell_type": "code",
   "execution_count": 1,
   "metadata": {},
   "outputs": [],
   "source": [
    "from station_variants import STATION_VARIANTS\n",
    "from sklearn.preprocessing import LabelEncoder\n",
    "from sklearn.neighbors import KNeighborsClassifier\n",
    "from transformers import AutoTokenizer, AutoModel\n",
    "import torch"
   ]
  },
  {
   "cell_type": "code",
   "execution_count": 2,
   "metadata": {},
   "outputs": [],
   "source": [
    "from sklearn.preprocessing import LabelEncoder\n",
    "from sklearn.neighbors import KNeighborsClassifier\n",
    "from transformers import AutoTokenizer, AutoModel"
   ]
  },
  {
   "cell_type": "markdown",
   "metadata": {},
   "source": [
    "# Обучаем предсказание станции"
   ]
  },
  {
   "cell_type": "code",
   "execution_count": 3,
   "metadata": {},
   "outputs": [],
   "source": [
    "# Загружаем токенизатор и модель\n",
    "tokenizer = AutoTokenizer.from_pretrained(\"cointegrated/rubert-tiny\")\n",
    "model = AutoModel.from_pretrained(\"cointegrated/rubert-tiny\")\n",
    "\n",
    "# Подготовка данных для обучения\n",
    "texts = []  # Список текстов\n",
    "labels = []  # Список меток\n",
    "\n",
    "# Заполните texts и labels используя ваш датасет STATION_VARIANTS\n",
    "for station, variants in STATION_VARIANTS.items():\n",
    "    for variant in variants:\n",
    "        texts.append(variant)\n",
    "        labels.append(station)\n",
    "\n",
    "# Кодирование меток\n",
    "label_encoder = LabelEncoder()\n",
    "labels_encoded = label_encoder.fit_transform(labels)"
   ]
  },
  {
   "cell_type": "code",
   "execution_count": 4,
   "metadata": {},
   "outputs": [],
   "source": [
    "def get_embeddings(texts):\n",
    "    encoded_input = tokenizer(texts, padding=True, truncation=True, return_tensors='pt', max_length=32)\n",
    "    with torch.no_grad():\n",
    "        model_output = model(**encoded_input)\n",
    "    embeddings = model_output.last_hidden_state[:, 0, :].numpy()  # Берем эмбеддинги первого токена [CLS]\n",
    "    return embeddings\n",
    "\n",
    "X = get_embeddings(texts)"
   ]
  },
  {
   "cell_type": "code",
   "execution_count": 5,
   "metadata": {},
   "outputs": [],
   "source": [
    "# Обучение классификатора KNN\n",
    "clf = KNeighborsClassifier(n_neighbors=3)\n",
    "clf.fit(X, labels_encoded)\n",
    "\n",
    "# Функция для предсказания станции\n",
    "def predict_station(query):\n",
    "    query_embedding = get_embeddings([query])\n",
    "    prediction = clf.predict(query_embedding)\n",
    "    return label_encoder.inverse_transform(prediction)[0]"
   ]
  },
  {
   "cell_type": "code",
   "execution_count": 12,
   "metadata": {},
   "outputs": [
    {
     "name": "stdout",
     "output_type": "stream",
     "text": [
      "Баррикадная\n"
     ]
    }
   ],
   "source": [
    "# Тестирование\n",
    "print(predict_station(\"Баррикадной\"))"
   ]
  },
  {
   "cell_type": "markdown",
   "metadata": {},
   "source": [
    "# Тестируем модель"
   ]
  },
  {
   "cell_type": "code",
   "execution_count": 7,
   "metadata": {},
   "outputs": [],
   "source": [
    "import pandas as pd\n",
    "\n",
    "# Пример данных\n",
    "data = {\n",
    "    \"Вариант\": [\n",
    "        \"Нижегородск\", \"Нижгородская\", \"Пыхтин\", \"Пихтно\", \"Аэропрт Внуково\",\n",
    "        \"Аэрпорт Внукво\", \"Яхромкая\", \"Яхрмская\", \"Лианзов\", \"Лианзо\",\n",
    "        \"Фзтек\", \"Физ тех\", \"Текстильщ\", \"Текстльщик\", \"Кнцевская\", \"Кутуз\",\n",
    "        \"Сокл\", \"Щёлковской\", \"Окская\", \"Лефортов\"\n",
    "    ],\n",
    "    \"Правильное название\": [\n",
    "        \"Нижегородская\", \"Нижегородская\", \"Пыхтино\", \"Пыхтино\", \"Аэропорт Внуково\",\n",
    "        \"Аэропорт Внуково\", \"Яхромская\", \"Яхромская\", \"Лианозово\", \"Лианозово\",\n",
    "        \"Физтех\", \"Физтех\", \"Текстильщики\", \"Текстильщики\", \"Кунцевская\", \"Кутузовская\",\n",
    "        \"Сокол\", \"Щёлковская\", \"Окская\", \"Лефортово\"\n",
    "    ]\n",
    "}\n",
    "\n",
    "# Создание DataFrame\n",
    "df = pd.DataFrame(data)"
   ]
  },
  {
   "cell_type": "code",
   "execution_count": 8,
   "metadata": {},
   "outputs": [],
   "source": [
    "df['predicted'] = df['Вариант'].apply(predict_station)"
   ]
  },
  {
   "cell_type": "code",
   "execution_count": 9,
   "metadata": {},
   "outputs": [
    {
     "data": {
      "text/plain": [
       "0      True\n",
       "1      True\n",
       "2      True\n",
       "3      True\n",
       "4      True\n",
       "5      True\n",
       "6      True\n",
       "7      True\n",
       "8      True\n",
       "9      True\n",
       "10     True\n",
       "11     True\n",
       "12     True\n",
       "13     True\n",
       "14     True\n",
       "15    False\n",
       "16     True\n",
       "17     True\n",
       "18     True\n",
       "19     True\n",
       "dtype: bool"
      ]
     },
     "execution_count": 9,
     "metadata": {},
     "output_type": "execute_result"
    }
   ],
   "source": [
    "df['Правильное название'] == df.predicted"
   ]
  },
  {
   "cell_type": "markdown",
   "metadata": {},
   "source": [
    "# Сохраняем предсказывающую модель в файл"
   ]
  },
  {
   "cell_type": "code",
   "execution_count": 10,
   "metadata": {},
   "outputs": [],
   "source": [
    "from joblib import dump"
   ]
  },
  {
   "cell_type": "code",
   "execution_count": 11,
   "metadata": {},
   "outputs": [],
   "source": [
    "# Сохраняем классификатор KNN и LabelEncoder\n",
    "dump(clf, 'stations_knn_classifier.joblib')\n",
    "dump(label_encoder, 'stations_label_encoder.joblib')\n",
    "\n",
    "# Сохраняем токенизатор\n",
    "tokenizer.save_pretrained('stations_tokenizer')\n",
    "\n",
    "# Сохраняем модель трансформера\n",
    "model.save_pretrained('stations_rubert-tiny-model')"
   ]
  },
  {
   "cell_type": "code",
   "execution_count": null,
   "metadata": {},
   "outputs": [],
   "source": []
  }
 ],
 "metadata": {
  "kernelspec": {
   "display_name": "base",
   "language": "python",
   "name": "python3"
  },
  "language_info": {
   "codemirror_mode": {
    "name": "ipython",
    "version": 3
   },
   "file_extension": ".py",
   "mimetype": "text/x-python",
   "name": "python",
   "nbconvert_exporter": "python",
   "pygments_lexer": "ipython3",
   "version": "3.10.13"
  }
 },
 "nbformat": 4,
 "nbformat_minor": 2
}
