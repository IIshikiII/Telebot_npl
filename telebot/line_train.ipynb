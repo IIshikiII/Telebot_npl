{
 "cells": [
  {
   "cell_type": "code",
   "execution_count": 1,
   "metadata": {},
   "outputs": [],
   "source": [
    "from line_variants import LINE_VARIANTS\n",
    "from sklearn.preprocessing import LabelEncoder\n",
    "from sklearn.neighbors import KNeighborsClassifier\n",
    "from transformers import AutoTokenizer, AutoModel\n",
    "import torch"
   ]
  },
  {
   "cell_type": "code",
   "execution_count": 2,
   "metadata": {},
   "outputs": [],
   "source": [
    "from sklearn.preprocessing import LabelEncoder\n",
    "from sklearn.neighbors import KNeighborsClassifier\n",
    "from transformers import AutoTokenizer, AutoModel"
   ]
  },
  {
   "cell_type": "markdown",
   "metadata": {},
   "source": [
    "# Обучаем предсказание линии"
   ]
  },
  {
   "cell_type": "code",
   "execution_count": 3,
   "metadata": {},
   "outputs": [],
   "source": [
    "# Загружаем токенизатор и модель\n",
    "tokenizer = AutoTokenizer.from_pretrained(\"cointegrated/rubert-tiny\")\n",
    "model = AutoModel.from_pretrained(\"cointegrated/rubert-tiny\")\n",
    "\n",
    "# Подготовка данных для обучения\n",
    "texts = []  # Список текстов\n",
    "labels = []  # Список меток\n",
    "\n",
    "# Заполните texts и labels используя ваш датасет STATION_VARIANTS\n",
    "for station, variants in LINE_VARIANTS.items():\n",
    "    for variant in variants:\n",
    "        texts.append(variant)\n",
    "        labels.append(station)\n",
    "\n",
    "# Кодирование меток\n",
    "label_encoder = LabelEncoder()\n",
    "labels_encoded = label_encoder.fit_transform(labels)"
   ]
  },
  {
   "cell_type": "code",
   "execution_count": 4,
   "metadata": {},
   "outputs": [],
   "source": [
    "def get_embeddings(texts):\n",
    "    encoded_input = tokenizer(texts, padding=True, truncation=True, return_tensors='pt', max_length=32)\n",
    "    with torch.no_grad():\n",
    "        model_output = model(**encoded_input)\n",
    "    embeddings = model_output.last_hidden_state[:, 0, :].numpy()  # Берем эмбеддинги первого токена [CLS]\n",
    "    return embeddings\n",
    "\n",
    "X = get_embeddings(texts)"
   ]
  },
  {
   "cell_type": "code",
   "execution_count": 5,
   "metadata": {},
   "outputs": [],
   "source": [
    "# Обучение классификатора KNN\n",
    "clf = KNeighborsClassifier(n_neighbors=3)\n",
    "clf.fit(X, labels_encoded)\n",
    "\n",
    "# Функция для предсказания станции\n",
    "def predict_line(query):\n",
    "    query_embedding = get_embeddings([query])\n",
    "    prediction = clf.predict(query_embedding)\n",
    "    return label_encoder.inverse_transform(prediction)[0]"
   ]
  },
  {
   "cell_type": "code",
   "execution_count": 6,
   "metadata": {},
   "outputs": [
    {
     "name": "stdout",
     "output_type": "stream",
     "text": [
      "Замоскворецкая\n"
     ]
    }
   ],
   "source": [
    "# Тестирование\n",
    "print(predict_line(\"Замскворецк\"))"
   ]
  },
  {
   "cell_type": "markdown",
   "metadata": {},
   "source": [
    "# Сохраняем предсказывающую модель в файл"
   ]
  },
  {
   "cell_type": "code",
   "execution_count": 7,
   "metadata": {},
   "outputs": [],
   "source": [
    "from joblib import dump"
   ]
  },
  {
   "cell_type": "code",
   "execution_count": 8,
   "metadata": {},
   "outputs": [],
   "source": [
    "# Сохраняем классификатор KNN и LabelEncoder\n",
    "dump(clf, 'lines_knn_classifier.joblib')\n",
    "dump(label_encoder, 'lines_label_encoder.joblib')\n",
    "\n",
    "# Сохраняем токенизатор\n",
    "tokenizer.save_pretrained('lines_tokenizer')\n",
    "\n",
    "# Сохраняем модель трансформера\n",
    "model.save_pretrained('lines_rubert-tiny-model')"
   ]
  },
  {
   "cell_type": "code",
   "execution_count": null,
   "metadata": {},
   "outputs": [],
   "source": []
  }
 ],
 "metadata": {
  "kernelspec": {
   "display_name": "base",
   "language": "python",
   "name": "python3"
  },
  "language_info": {
   "codemirror_mode": {
    "name": "ipython",
    "version": 3
   },
   "file_extension": ".py",
   "mimetype": "text/x-python",
   "name": "python",
   "nbconvert_exporter": "python",
   "pygments_lexer": "ipython3",
   "version": "3.10.13"
  }
 },
 "nbformat": 4,
 "nbformat_minor": 2
}
